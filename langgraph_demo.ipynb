{
 "cells": [
  {
   "cell_type": "code",
   "execution_count": 1,
   "metadata": {},
   "outputs": [],
   "source": [
    "import os\n",
    "from dotenv import load_dotenv, find_dotenv\n",
    "_ = load_dotenv(find_dotenv())\n",
    "openai_api_key = os.environ[\"OPENAI_API_KEY\"]\n",
    "tavily_api_key = os.environ[\"TAVILY_API_KEY\"]"
   ]
  },
  {
   "cell_type": "code",
   "execution_count": 2,
   "metadata": {},
   "outputs": [],
   "source": [
    "from langchain_openai import ChatOpenAI\n",
    "llm = ChatOpenAI(model=\"gpt-4o-mini\")"
   ]
  },
  {
   "cell_type": "code",
   "execution_count": 3,
   "metadata": {},
   "outputs": [
    {
     "data": {
      "text/plain": [
       "[{'url': 'https://www.nbcsports.com/soccer/news/euro-2024-player-power-rankings-who-are-the-top-20-stars',\n",
       "  'content': 'EURO 2024 player Power Rankings\\n20. Giorgi Mamardashvili (Georgia)\\n19. Khvicha Kvaratskhelia (Georgia)\\n18. Hakan Calhanoglu (Turkey)\\n17. Lamine Yamal (Spain)\\n16. N’Golo Kante (France)\\n15. Jude Bellingham (England)\\n14. Alvaro Morata (Spain)\\n13. Kai Havertz (Germany)\\n12. Toni Kroos (Germany)\\n11. Ilkay Gundogan (Germany)\\n10. Cody Gakpo (Netherlands)\\n9. Kevin de Bruyne (Belgium)\\n8. William Saliba (France)\\n7. Bruno Fernandes (Portugal)\\n6. Kylian Mbappe (France)\\n5. Marcel Sabitzer (Austria) [...] With Kylian Mbappe, Harry Kane and Kevin de Bruyne aiming to lead their teams to glory, plus ageing superstars like Toni Kroos and Cristiano Ronaldo still going strong and young stars Jude Bellingham, Florian Wirtz and Lamine Yamal set to take over, you can look all over the place for star performances this summer.\\nPlus, every tournament there are always stars who emerge to make a name for themselves and players from Georgia and Austria are standing tall. [...] 4. Gianluigi Donnarumma (Italy)\\n3. Jamal Musiala (Germany)\\n2. Florian Wirtz (Germany)\\n1. Fabian Ruiz (Spain)\\nOn the bubble: Antonio Rudiger, Rodri, Joshua Kimmich, Dani Carvajal, Nico Williams, Pepe, Christian Eriksen, Dani Olmo, Bernardo Silva, Marc Cucurella, Pedri, Nuno Mendes, Nicolo Barella, Declan Rice, Razvan Marin, Christoph Baumgartner, Arda Guler, Granit Xhaka, Pierre-Emile Hojbjerg, Alessandro Bastoni, Niclas Fullkrug, Maximillian Mittelstadt'},\n",
       " {'url': 'https://www.espn.com/soccer/story/_/id/40319301/euro-2024-power-rankings-france-top-germany-england',\n",
       "  'content': \"Some would argue they're caught between two generations; others could say they boast a nice blend of youth and experience. It's up to manager Zlatko Dalic to mix in the fresh faces responsibly and, perhaps, manage the minutes of the old guard. Luka Modric will lead them out, aged 38, but he is unlikely to last the full 90 minutes, as he did so only five times for Real Madrid in 2023-24. [...] Still, you look at the squad and can't help but be impressed: Bruno Fernandes, Cristiano Ronaldo, Bernardo Silva, Rúben Dias and João Cancelo all started eight or more qualifying games and remain at the heart of this team, then a series of other extremely talented players fill in the gaps as manager Roberto Martínez sees fit. [...] containing Czechia, Portugal and Turkey.\"},\n",
       " {'url': 'https://www.espn.com/soccer/story/_/id/40435501/euro-2024-power-rankings-spain-take-top-spot-england-drop',\n",
       "  'content': \"But there are some concerns for coach Julian Nagelsmann when it comes to the defensive side of the game. The spaces behind Germany's adventurous full-backs look ripe for counter-attacking, plus they'll now have to deal with enforced absences to what has so far been an unchanged starting XI. Jonathan Tah is suspended for the round-of-16 clash with Denmark, and Antonio Rüdiger has a thigh issue. Suddenly, Germany may go from unchanged XI to wholesale changes in a heartbeat. [...] But, based on current evidence, that feels like a long way away.\\n\\n4. GERMANY\\n\\nPrevious ranking: 4\\n\\nOne of the greatest compliments you can pay an international side is to say they look like a club side. On the ball, that's Germany.\\n\\nWith veteran midfielder Toni Kroos at the heart of a fluid passing game, young Jamal Musiala's electric dribbling opening up teams and Ilkay Gündogan dropping into the spaces created, this attack has looked fantastic. [...] No team at Euro 2024 can feel more hard done by than Ukraine, who accrued four points from three games and still got knocked out. They'll head home, yet have to watch Denmark and Slovenia contest the round of 16 -- despite the fact both only managed three points and neither won a game.\\n\\nAlejandro Moreno wonders who will step up for Croatia now that Luka Modric's generation is nearing their end with the national team.\\n\\n16. SLOVENIA\\n\\nPrevious ranking: 21\"}]"
      ]
     },
     "execution_count": 3,
     "metadata": {},
     "output_type": "execute_result"
    }
   ],
   "source": [
    "from langchain_community.tools.tavily_search import TavilySearchResults\n",
    "search = TavilySearchResults(max_results=3)\n",
    "search.invoke(\"Who are the top starts in the 2024 European Football Championship?\")"
   ]
  },
  {
   "cell_type": "code",
   "execution_count": 4,
   "metadata": {},
   "outputs": [
    {
     "data": {
      "text/plain": [
       "[TavilySearchResults(max_results=3, api_wrapper=TavilySearchAPIWrapper(tavily_api_key=SecretStr('**********')))]"
      ]
     },
     "execution_count": 4,
     "metadata": {},
     "output_type": "execute_result"
    }
   ],
   "source": [
    "tools = [search]\n",
    "tools"
   ]
  },
  {
   "cell_type": "code",
   "execution_count": 5,
   "metadata": {},
   "outputs": [],
   "source": [
    "from langgraph.prebuilt import create_react_agent\n",
    "agent_executor = create_react_agent(llm, tools)"
   ]
  },
  {
   "cell_type": "code",
   "execution_count": 10,
   "metadata": {},
   "outputs": [
    {
     "name": "stdout",
     "output_type": "stream",
     "text": [
      "{'messages': [HumanMessage(content='When is the Nintendo Switch 2 released?', additional_kwargs={}, response_metadata={}, id='3698e644-92c9-434c-ac3d-24364d9edd85'), AIMessage(content='', additional_kwargs={'tool_calls': [{'id': 'call_rv3KdI9T2Ew6LL4xFngE3FI9', 'function': {'arguments': '{\"query\":\"Nintendo Switch 2 release date\"}', 'name': 'tavily_search_results_json'}, 'type': 'function'}], 'refusal': None}, response_metadata={'token_usage': {'completion_tokens': 24, 'prompt_tokens': 88, 'total_tokens': 112, 'completion_tokens_details': {'accepted_prediction_tokens': 0, 'audio_tokens': 0, 'reasoning_tokens': 0, 'rejected_prediction_tokens': 0}, 'prompt_tokens_details': {'audio_tokens': 0, 'cached_tokens': 0}}, 'model_name': 'gpt-4o-mini-2024-07-18', 'system_fingerprint': 'fp_b376dfbbd5', 'finish_reason': 'tool_calls', 'logprobs': None}, id='run-34b21f2f-1c0d-4bcf-954a-e1a45b88fc11-0', tool_calls=[{'name': 'tavily_search_results_json', 'args': {'query': 'Nintendo Switch 2 release date'}, 'id': 'call_rv3KdI9T2Ew6LL4xFngE3FI9', 'type': 'tool_call'}], usage_metadata={'input_tokens': 88, 'output_tokens': 24, 'total_tokens': 112, 'input_token_details': {'audio': 0, 'cache_read': 0}, 'output_token_details': {'audio': 0, 'reasoning': 0}}), ToolMessage(content='[{\"url\": \"https://www.ign.com/articles/nintendo-switch-2-direct-everything-announced\", \"content\": \"Nintendo Switch 2: Release Date, Price, Hardware, Features, and Accessories\\\\n\\\\nNintendo Switch 2 Release Date and Price Revealed\\\\n\\\\nNintendo revealed that Nintendo Switch 2 will officially be released on June 5, 2025 and it will cost $449.99 USD. There will also be a Nintendo Switch 2 + Mario Kart World Bundle that will cost $499.99 USD.\\\\n\\\\nNintendo Switch 2 Pre-Orders Begin April 9\\\\n\\\\nNintendo Switch 2 pre-orders will open at retailers in North America on April 9, 2025. [...] Nintendo also announced a Mario Kart World Direct will take place on April 17 at 6am PT/9am ET.\\\\n\\\\nDonkey Kong Bananza Is Smashing Its Way to Nintendo Switch 2 This July\\\\n\\\\nThe last big trailer for Nintendo Switch was Donkey Kong Bananza, a new 3D platforming game that sees Donkey Kong smashing and digging and jumping through a wide range of levels. What\\'s even more exciting is that Donkey Kong Bananza will be released on July 17, 2025. [...] Nintendo peeled back the curtain a bit on Nintendo Switch 2 Edition Games, including Super Mario Party Jamboree. This expanded version will take advantage of the Switch 2\\'s mouse controls, camera, and voice recognition capabilities.\\\\n\\\\nSuper Mario Party Jamboree + Jamboree TV on July 24, 2025. Those who already own Super Mario Party Jamboree will be able to upgrade.\\\\n\\\\nPokemon Legends Z-A\\'s Nintendo Switch 2 Edition Will Feature Improved Resolution and Framerate\"}, {\"url\": \"https://www.ign.com/articles/switch-2-release-date-confirmed-during-nintendo-direct\", \"content\": \"Site Themes\\\\n\\\\nChange Region\\\\n\\\\nMore\\\\n\\\\nNews\\\\n\\\\nReviews\\\\n\\\\nDiscover\\\\n\\\\nVideos\\\\n\\\\nAccount\\\\n\\\\n20Q #XX: undefined\\\\n\\\\nSwitch 2 Release Date Confirmed During Nintendo Direct\\\\n\\\\nNot long to wait.\\\\n\\\\nThe Nintendo Switch 2 has a release date at last. It\\'s coming on June 5, 2025.\\\\n\\\\n\\\\n\\\\nAlso announced today is the Nintendo Switch 2 price, which starts at $449.99.\\\\n\\\\nNintendo Switch 2 comes with the following:\\\\n\\\\nNintendo Direct: Nintendo Switch 2 Console Slideshow [...] You can catch up on the wealth of information we got about the system from today\\'s one-hour Nintendo Direct right here.\\\\n\\\\nWhat Do You Think of the $449.99 Nintendo Switch 2 Price?\\\\n\\\\nWesley is the UK News Editor for IGN. Find him on Twitter at @wyp100. You can reach Wesley at wesley_yinpoole@ign.com or confidentially at wyp100@proton.me.\\\\n\\\\nIn This Article\"}, {\"url\": \"https://www.forbes.com/sites/paultassi/2025/04/02/the-nintendo-switch-2s-release-date-is-revealed-and-its-imminent/\", \"content\": \"The release date of the Nintendo Switch 2 will by June 5, 2025, just over two months from now, and managing to get out before the second half of the year, not bothering with a holiday window launch. What we do not know yet (at the time I’m writing this, and will update if that changes), is the price. Most believe it will be $400 for the normal edition. (Update: It’s $450, $500 for the Mario Kart World bundle). [...] You have probably forgotten this at this point, but the Nintendo Switch 2 launched on March 3, 2017, so this is going to be a little bit more than eight years between generations of the systems, despite some mid-gen upgrades like the OLED edition. But there have not been significant power increases until now. [...] ByPaul Tassi\\\\n\\\\n\\\\n\\\\nThe Nintendo Switch 2’s Release Date Is Revealed And It’s Imminent\\\\n\\\\nByPaul Tassi,\\\\n\\\\nSenior Contributor.\\\\n\\\\nNintendo Switch 2\\\\n\\\\nA third of the way through the Nintendo Switch 2 livestream, the company decided to drop the release date, rather than waiting for the grand finale. And it’s a lot sooner than most people were expecting.\"}]', name='tavily_search_results_json', id='a6fca075-05e4-41f1-a570-851d326683a9', tool_call_id='call_rv3KdI9T2Ew6LL4xFngE3FI9', artifact={'query': 'Nintendo Switch 2 release date', 'follow_up_questions': None, 'answer': None, 'images': [], 'results': [{'url': 'https://www.ign.com/articles/nintendo-switch-2-direct-everything-announced', 'title': 'Nintendo Switch 2 Direct: Everything Announced - IGN', 'content': \"Nintendo Switch 2: Release Date, Price, Hardware, Features, and Accessories\\n\\nNintendo Switch 2 Release Date and Price Revealed\\n\\nNintendo revealed that Nintendo Switch 2 will officially be released on June 5, 2025 and it will cost $449.99 USD. There will also be a Nintendo Switch 2 + Mario Kart World Bundle that will cost $499.99 USD.\\n\\nNintendo Switch 2 Pre-Orders Begin April 9\\n\\nNintendo Switch 2 pre-orders will open at retailers in North America on April 9, 2025. [...] Nintendo also announced a Mario Kart World Direct will take place on April 17 at 6am PT/9am ET.\\n\\nDonkey Kong Bananza Is Smashing Its Way to Nintendo Switch 2 This July\\n\\nThe last big trailer for Nintendo Switch was Donkey Kong Bananza, a new 3D platforming game that sees Donkey Kong smashing and digging and jumping through a wide range of levels. What's even more exciting is that Donkey Kong Bananza will be released on July 17, 2025. [...] Nintendo peeled back the curtain a bit on Nintendo Switch 2 Edition Games, including Super Mario Party Jamboree. This expanded version will take advantage of the Switch 2's mouse controls, camera, and voice recognition capabilities.\\n\\nSuper Mario Party Jamboree + Jamboree TV on July 24, 2025. Those who already own Super Mario Party Jamboree will be able to upgrade.\\n\\nPokemon Legends Z-A's Nintendo Switch 2 Edition Will Feature Improved Resolution and Framerate\", 'score': 0.944878, 'raw_content': None}, {'url': 'https://www.ign.com/articles/switch-2-release-date-confirmed-during-nintendo-direct', 'title': 'Switch 2 Release Date Confirmed During Nintendo Direct - IGN', 'content': \"Site Themes\\n\\nChange Region\\n\\nMore\\n\\nNews\\n\\nReviews\\n\\nDiscover\\n\\nVideos\\n\\nAccount\\n\\n20Q #XX: undefined\\n\\nSwitch 2 Release Date Confirmed During Nintendo Direct\\n\\nNot long to wait.\\n\\nThe Nintendo Switch 2 has a release date at last. It's coming on June 5, 2025.\\n\\n\\n\\nAlso announced today is the Nintendo Switch 2 price, which starts at $449.99.\\n\\nNintendo Switch 2 comes with the following:\\n\\nNintendo Direct: Nintendo Switch 2 Console Slideshow [...] You can catch up on the wealth of information we got about the system from today's one-hour Nintendo Direct right here.\\n\\nWhat Do You Think of the $449.99 Nintendo Switch 2 Price?\\n\\nWesley is the UK News Editor for IGN. Find him on Twitter at @wyp100. You can reach Wesley at wesley_yinpoole@ign.com or confidentially at wyp100@proton.me.\\n\\nIn This Article\", 'score': 0.9441409, 'raw_content': None}, {'url': 'https://www.forbes.com/sites/paultassi/2025/04/02/the-nintendo-switch-2s-release-date-is-revealed-and-its-imminent/', 'title': \"The Nintendo Switch 2's Release Date Is Revealed And It's Imminent\", 'content': 'The release date of the Nintendo Switch 2 will by June 5, 2025, just over two months from now, and managing to get out before the second half of the year, not bothering with a holiday window launch. What we do not know yet (at the time I’m writing this, and will update if that changes), is the price. Most believe it will be $400 for the normal edition. (Update: It’s $450, $500 for the Mario Kart World bundle). [...] You have probably forgotten this at this point, but the Nintendo Switch 2 launched on March 3, 2017, so this is going to be a little bit more than eight years between generations of the systems, despite some mid-gen upgrades like the OLED edition. But there have not been significant power increases until now. [...] ByPaul Tassi\\n\\n\\n\\nThe Nintendo Switch 2’s Release Date Is Revealed And It’s Imminent\\n\\nByPaul Tassi,\\n\\nSenior Contributor.\\n\\nNintendo Switch 2\\n\\nA third of the way through the Nintendo Switch 2 livestream, the company decided to drop the release date, rather than waiting for the grand finale. And it’s a lot sooner than most people were expecting.', 'score': 0.9296516, 'raw_content': None}], 'response_time': 1.12}), AIMessage(content='The Nintendo Switch 2 is set to be released on **June 5, 2025**, with a starting price of **$449.99 USD**. There will also be a special bundle called the Nintendo Switch 2 + Mario Kart World Bundle priced at **$499.99 USD**. Pre-orders will begin on **April 9, 2025**. \\n\\nFor more details, you can check the article from IGN [here](https://www.ign.com/articles/nintendo-switch-2-direct-everything-announced).', additional_kwargs={'refusal': None}, response_metadata={'token_usage': {'completion_tokens': 112, 'prompt_tokens': 1032, 'total_tokens': 1144, 'completion_tokens_details': {'accepted_prediction_tokens': 0, 'audio_tokens': 0, 'reasoning_tokens': 0, 'rejected_prediction_tokens': 0}, 'prompt_tokens_details': {'audio_tokens': 0, 'cached_tokens': 0}}, 'model_name': 'gpt-4o-mini-2024-07-18', 'system_fingerprint': 'fp_b376dfbbd5', 'finish_reason': 'stop', 'logprobs': None}, id='run-8f6b7961-12db-4d0e-8e87-ee255b9376da-0', usage_metadata={'input_tokens': 1032, 'output_tokens': 112, 'total_tokens': 1144, 'input_token_details': {'audio': 0, 'cache_read': 0}, 'output_token_details': {'audio': 0, 'reasoning': 0}})]}\n"
     ]
    }
   ],
   "source": [
    "from langchain_core.messages import HumanMessage\n",
    "\n",
    "response = agent_executor.invoke({\n",
    "    \"messages\": [HumanMessage(content=\"When is the Nintendo Switch 2 released?\")]\n",
    "})\n",
    "\n",
    "print(response)"
   ]
  },
  {
   "cell_type": "markdown",
   "metadata": {},
   "source": [
    "### Adding Memory\n",
    "\n",
    "* Adding memory in LangGraph is very similar to what we did in LangChain"
   ]
  },
  {
   "cell_type": "code",
   "execution_count": 11,
   "metadata": {},
   "outputs": [],
   "source": [
    "from langgraph.checkpoint.memory import MemorySaver\n",
    "memory = MemorySaver()"
   ]
  },
  {
   "cell_type": "code",
   "execution_count": 12,
   "metadata": {},
   "outputs": [],
   "source": [
    "agent_executor = create_react_agent(llm, tools, checkpointer=memory)\n",
    "config = {\"configurable\": {\"thread_id\": \"001\"}}\n"
   ]
  },
  {
   "cell_type": "code",
   "execution_count": 13,
   "metadata": {},
   "outputs": [
    {
     "name": "stdout",
     "output_type": "stream",
     "text": [
      "{'agent': {'messages': [AIMessage(content='', additional_kwargs={'tool_calls': [{'id': 'call_VJu0OWARtKgEn2IwaHMXWkEK', 'function': {'arguments': '{\"query\":\"2024 soccer Eurocup winner\"}', 'name': 'tavily_search_results_json'}, 'type': 'function'}], 'refusal': None}, response_metadata={'token_usage': {'completion_tokens': 24, 'prompt_tokens': 89, 'total_tokens': 113, 'completion_tokens_details': {'accepted_prediction_tokens': 0, 'audio_tokens': 0, 'reasoning_tokens': 0, 'rejected_prediction_tokens': 0}, 'prompt_tokens_details': {'audio_tokens': 0, 'cached_tokens': 0}}, 'model_name': 'gpt-4o-mini-2024-07-18', 'system_fingerprint': 'fp_b376dfbbd5', 'finish_reason': 'tool_calls', 'logprobs': None}, id='run-ad3cb3da-225a-4b6c-a609-f3926112bd52-0', tool_calls=[{'name': 'tavily_search_results_json', 'args': {'query': '2024 soccer Eurocup winner'}, 'id': 'call_VJu0OWARtKgEn2IwaHMXWkEK', 'type': 'tool_call'}], usage_metadata={'input_tokens': 89, 'output_tokens': 24, 'total_tokens': 113, 'input_token_details': {'audio': 0, 'cache_read': 0}, 'output_token_details': {'audio': 0, 'reasoning': 0}})]}}\n",
      "----------------------------------------------------------------------------------------------------\n",
      "{'tools': {'messages': [ToolMessage(content='[{\"url\": \"https://www.youtube.com/watch?v=jPG0J8PrrrQ\", \"content\": \"Euro Cup 2024 final highlights: Spain wins record 4th title with a 2-1 victory against England \\\\n The Economic Times \\\\n 7 likes \\\\n 7786 views \\\\n 15 Jul 2024 \\\\n Spain secured a record fourth European Championship title on Sunday after Mikel Oyarzabal\\'s 87th-minute goal clinched a 2-1 victory over England, extending England\\'s long wait for a major trophy. Watch!\\\\n\\\\n\\\\n► Subscribe to The Economic Times for the latest video updates. It\\'s free! - https://www.youtube.com/TheEconomicTimes?sub_confirmation=1\"}, {\"url\": \"https://www.cnn.com/2024/07/14/sport/spain-england-euro-2024-final-spt-intl/index.html\", \"content\": \"Ad Feedback\\\\nSports / Football\\\\nSpain wins Euro 2024, defeating England 2-1 in a dramatic final to claim record fourth European Championship\\\\nBy Ben Morse, CNN\\\\n5 minute read\\\\nUpdated 5:44 PM EDT, Sun July 14, 2024\\\\n\\\\nLink Copied!\\\\nFollow:\\\\nUK See your latest updates [...] Alvaro Morata lifts the Henri Delaunay trophy after Spain defeats England in the Euro 2024 final.\\\\nMichael Regan/UEFA/Getty Images\\\\nCNN \\xa0—\\xa0\\\\nSpain won a record-breaking fourth European Championship, defeating England 2-1 following a drama-filled second half in the Euro 2024 final on Sunday in Berlin. [...] Spain wins Euro 2024, defeating England 2-1 in a dramatic final to claim record fourth European Championship | CNN\"}, {\"url\": \"https://www.uefa.com/euro2024/news/028f-1b4e4a9a6d42-253a2c18efdf-1000--uefa-euro-2024-meet-the-winners/\", \"content\": \"How they got there, top scorers, pedigree, key players and the coach – all you need to know about UEFA EURO 2024 winners Spain.\\\\nRoute to glory\\\\nGroup B winners\\\\n3-0 vs Croatia (Berlin, 15 June)\\\\n1-0 vs Italy (Gelsenkirchen, 20 June)\\\\n1-0 vs Albania (Düsseldorf, 24 June)\\\\nRound of 16\\\\n4-1 vs Georgia (Cologne, 30 June)\\\\nQuarter-final\\\\n2-1 aet vs Germany (Stuttgart, 5 July)\\\\nSemi-final\\\\n2-1 vs France (Munich, 9 July)\\\\nFinal\\\\n2-1 vs England (Berlin, 10 July)\\\\nSpain\\\\nPedigree [...] UEFA.com works better on other browsers\\\\nFor the best possible experience, we recommend using Chrome, Firefox or Microsoft Edge.\\\\nSkip to main content\\\\nUEFA EURO 2024\\\\nUEFA EURO 2024 - UEFA EURO 2024: Meet the winners - News \\\\nUEFA EURO 2024: Meet the winners\\\\nSunday, July 14, 2024\\\\nArticle summary\\\\nGet the full lowdown on UEFA EURO 2024 winners Spain.\\\\nArticle top media content\\\\nSpain\\'s route to EURO 2024 glory: Every goal\\\\nArticle body [...] Live 14/07/2024 Lowdown: EURO 2024 final ------------------------ Spain beat England 2-1 in the EURO 2024 final at Olympiastadion Berlin on Sunday 14 July.\\\\nUEFA EURO 2024\"}]', name='tavily_search_results_json', id='6569a975-42cb-4621-9746-1c539c8092c4', tool_call_id='call_VJu0OWARtKgEn2IwaHMXWkEK', artifact={'query': '2024 soccer Eurocup winner', 'follow_up_questions': None, 'answer': None, 'images': [], 'results': [{'url': 'https://www.youtube.com/watch?v=jPG0J8PrrrQ', 'title': 'Euro Cup 2024 final highlights: Spain wins record 4th title ... - YouTube', 'content': \"Euro Cup 2024 final highlights: Spain wins record 4th title with a 2-1 victory against England \\n The Economic Times \\n 7 likes \\n 7786 views \\n 15 Jul 2024 \\n Spain secured a record fourth European Championship title on Sunday after Mikel Oyarzabal's 87th-minute goal clinched a 2-1 victory over England, extending England's long wait for a major trophy. Watch!\\n\\n\\n► Subscribe to The Economic Times for the latest video updates. It's free! - https://www.youtube.com/TheEconomicTimes?sub_confirmation=1\", 'score': 0.83678174, 'raw_content': None}, {'url': 'https://www.cnn.com/2024/07/14/sport/spain-england-euro-2024-final-spt-intl/index.html', 'title': 'Spain wins Euro 2024, defeating England 2-1 in a dramatic final to ...', 'content': 'Ad Feedback\\nSports / Football\\nSpain wins Euro 2024, defeating England 2-1 in a dramatic final to claim record fourth European Championship\\nBy Ben Morse, CNN\\n5 minute read\\nUpdated 5:44 PM EDT, Sun July 14, 2024\\n\\nLink Copied!\\nFollow:\\nUK See your latest updates [...] Alvaro Morata lifts the Henri Delaunay trophy after Spain defeats England in the Euro 2024 final.\\nMichael Regan/UEFA/Getty Images\\nCNN \\xa0—\\xa0\\nSpain won a record-breaking fourth European Championship, defeating England 2-1 following a drama-filled second half in the Euro 2024 final on Sunday in Berlin. [...] Spain wins Euro 2024, defeating England 2-1 in a dramatic final to claim record fourth European Championship | CNN', 'score': 0.8091708, 'raw_content': None}, {'url': 'https://www.uefa.com/euro2024/news/028f-1b4e4a9a6d42-253a2c18efdf-1000--uefa-euro-2024-meet-the-winners/', 'title': 'UEFA EURO 2024: Meet the winners', 'content': \"How they got there, top scorers, pedigree, key players and the coach – all you need to know about UEFA EURO 2024 winners Spain.\\nRoute to glory\\nGroup B winners\\n3-0 vs Croatia (Berlin, 15 June)\\n1-0 vs Italy (Gelsenkirchen, 20 June)\\n1-0 vs Albania (Düsseldorf, 24 June)\\nRound of 16\\n4-1 vs Georgia (Cologne, 30 June)\\nQuarter-final\\n2-1 aet vs Germany (Stuttgart, 5 July)\\nSemi-final\\n2-1 vs France (Munich, 9 July)\\nFinal\\n2-1 vs England (Berlin, 10 July)\\nSpain\\nPedigree [...] UEFA.com works better on other browsers\\nFor the best possible experience, we recommend using Chrome, Firefox or Microsoft Edge.\\nSkip to main content\\nUEFA EURO 2024\\nUEFA EURO 2024 - UEFA EURO 2024: Meet the winners - News \\nUEFA EURO 2024: Meet the winners\\nSunday, July 14, 2024\\nArticle summary\\nGet the full lowdown on UEFA EURO 2024 winners Spain.\\nArticle top media content\\nSpain's route to EURO 2024 glory: Every goal\\nArticle body [...] Live 14/07/2024 Lowdown: EURO 2024 final ------------------------ Spain beat England 2-1 in the EURO 2024 final at Olympiastadion Berlin on Sunday 14 July.\\nUEFA EURO 2024\", 'score': 0.79637206, 'raw_content': None}], 'response_time': 2.39})]}}\n",
      "----------------------------------------------------------------------------------------------------\n",
      "{'agent': {'messages': [AIMessage(content=\"Spain won the 2024 soccer Eurocup, defeating England 2-1 in the final held on July 14, 2024, in Berlin. This victory marked Spain's record fourth European Championship title. Mikel Oyarzabal scored the decisive goal in the 87th minute to secure the win.\", additional_kwargs={'refusal': None}, response_metadata={'token_usage': {'completion_tokens': 66, 'prompt_tokens': 880, 'total_tokens': 946, 'completion_tokens_details': {'accepted_prediction_tokens': 0, 'audio_tokens': 0, 'reasoning_tokens': 0, 'rejected_prediction_tokens': 0}, 'prompt_tokens_details': {'audio_tokens': 0, 'cached_tokens': 0}}, 'model_name': 'gpt-4o-mini-2024-07-18', 'system_fingerprint': 'fp_b376dfbbd5', 'finish_reason': 'stop', 'logprobs': None}, id='run-20e54b9e-aa81-4267-8679-a20cd4480056-0', usage_metadata={'input_tokens': 880, 'output_tokens': 66, 'total_tokens': 946, 'input_token_details': {'audio': 0, 'cache_read': 0}, 'output_token_details': {'audio': 0, 'reasoning': 0}})]}}\n",
      "----------------------------------------------------------------------------------------------------\n"
     ]
    }
   ],
   "source": [
    "for chunk in agent_executor.stream(\n",
    "    {\"messages\": [HumanMessage(content=\"Who won the 2024 soccer Eurocup?\")]}, config\n",
    "):\n",
    "    print(chunk)\n",
    "    print(\"-\"*100)"
   ]
  },
  {
   "cell_type": "code",
   "execution_count": 14,
   "metadata": {},
   "outputs": [
    {
     "name": "stdout",
     "output_type": "stream",
     "text": [
      "{'agent': {'messages': [AIMessage(content='', additional_kwargs={'tool_calls': [{'id': 'call_fqbbtK9D3zxGipYNnHy12sZN', 'function': {'arguments': '{\"query\":\"Euro 2024 Spain team top players stars\"}', 'name': 'tavily_search_results_json'}, 'type': 'function'}], 'refusal': None}, response_metadata={'token_usage': {'completion_tokens': 27, 'prompt_tokens': 962, 'total_tokens': 989, 'completion_tokens_details': {'accepted_prediction_tokens': 0, 'audio_tokens': 0, 'reasoning_tokens': 0, 'rejected_prediction_tokens': 0}, 'prompt_tokens_details': {'audio_tokens': 0, 'cached_tokens': 0}}, 'model_name': 'gpt-4o-mini-2024-07-18', 'system_fingerprint': 'fp_b376dfbbd5', 'finish_reason': 'tool_calls', 'logprobs': None}, id='run-7dc4502d-33a4-4c9e-b371-17bb7188ad40-0', tool_calls=[{'name': 'tavily_search_results_json', 'args': {'query': 'Euro 2024 Spain team top players stars'}, 'id': 'call_fqbbtK9D3zxGipYNnHy12sZN', 'type': 'tool_call'}], usage_metadata={'input_tokens': 962, 'output_tokens': 27, 'total_tokens': 989, 'input_token_details': {'audio': 0, 'cache_read': 0}, 'output_token_details': {'audio': 0, 'reasoning': 0}})]}}\n",
      "----------------------------------------------------------------------------------------------------\n",
      "{'tools': {'messages': [ToolMessage(content='[{\"url\": \"https://khelnow.com/football/world-football-spanish-players-who-impressed-euro-202407\", \"content\": \"These Spanish players gave their all for the colours of their country at Euro 2024. · 3. Nico Williams · 2. Fabian Ruiz · 1. Lamine Yamal.\"}, {\"url\": \"https://www.fourfourtwo.com/features/spain-euro-2024-squad-team-line-up-players-germany\", \"content\": \"Spain Euro 2024 squad numbers\\\\nSwipe to scroll horizontally\\\\nSpain Euro 2024 squad numbers\\\\n| No. | Player | Pos |\\\\n| --- | --- | --- |\\\\n| 1 | David Raya | GK |\\\\n| 2 | Dani Carvajal | DF |\\\\n| 3 | Robin Le Normand | DF |\\\\n| 4 | Daniel Vivian | DF |\\\\n| 5 | Nacho | DF |\\\\n| 6 | Mikel Merino | MF |\\\\n| 7 | Alvaro Morata | FW |\\\\n| 8 | Fabian Ruiz | MF |\\\\n| 9 | Ayoze Perez | FW |\\\\n| 10 | Dani Olmo | FW |\\\\n| 11 | Ferran Torres | FW |\\\\n| 12 | Alex Grimaldo | DF |\\\\n| 13 | Alex Remiro | GK |\\\\n| 14 | Aymeric Laporte | DF | [...] _June 24: Albania 0-1\\xa0Spain, _Merkur Spiel-Arena, Düsseldorf, Germany\\\\nJune 30: Spain 4-1 Georgia, RheinEnergieStadion, Cologne, Germany\\\\nJuly 5: Spain 2-1 (a.e.t) Germany, MHPArena, Stuttgart, Germany\\\\nJuly 9: Spain 2-1 France, Allianz Arena, Munich, Germany\\\\nJuly 14: Spain v England, Olympiastadion, Berlin, Germany\\\\nSpain Euro 2024 top scorers\\\\n3 goals: Dani Olmo\\\\n2 goals: Fabian Ruiz\\\\n1 goal: Alvaro Morata, Dani Carvajal, Ferran Torres, Rodri, Nico Williams, Mikel Merino, Lamine Yamal [...] After six games, Spain have been comfortably the most impressive team at the tournament, with their quality on sharp display throughout. Rodri, Fabian Ruiz, Nico Williams, Lamine Yamal, Dani Olmo and Aymeric Laporte have all shown just how good they are - heck, even ridiculed left-back Marc Cucurella has had somewhat of a redemption arc in Germany this summer.\"}, {\"url\": \"https://m.allfootballapp.com/news/EPL/Spains-Stars-Key-players-to-watch-ahead-of-Euro-2024-final-against-England/3429676\", \"content\": \"Spain\\'s legendary midfield trio of Andres Iniesta, Xavi Hernandez and Sergio Busquets is unbeatable. It is, and probably always will be, the\"}]', name='tavily_search_results_json', id='f8949607-5b27-4f1b-b4b1-679698c6182b', tool_call_id='call_fqbbtK9D3zxGipYNnHy12sZN', artifact={'query': 'Euro 2024 Spain team top players stars', 'follow_up_questions': None, 'answer': None, 'images': [], 'results': [{'url': 'https://khelnow.com/football/world-football-spanish-players-who-impressed-euro-202407', 'title': 'Top three Spanish players who impressed at Euro 2024 - Khel Now', 'content': 'These Spanish players gave their all for the colours of their country at Euro 2024. · 3. Nico Williams · 2. Fabian Ruiz · 1. Lamine Yamal.', 'score': 0.8793233, 'raw_content': None}, {'url': 'https://www.fourfourtwo.com/features/spain-euro-2024-squad-team-line-up-players-germany', 'title': \"Spain Euro 2024 squad: Luis de la Fuente's full team | FourFourTwo\", 'content': 'Spain Euro 2024 squad numbers\\nSwipe to scroll horizontally\\nSpain Euro 2024 squad numbers\\n| No. | Player | Pos |\\n| --- | --- | --- |\\n| 1 | David Raya | GK |\\n| 2 | Dani Carvajal | DF |\\n| 3 | Robin Le Normand | DF |\\n| 4 | Daniel Vivian | DF |\\n| 5 | Nacho | DF |\\n| 6 | Mikel Merino | MF |\\n| 7 | Alvaro Morata | FW |\\n| 8 | Fabian Ruiz | MF |\\n| 9 | Ayoze Perez | FW |\\n| 10 | Dani Olmo | FW |\\n| 11 | Ferran Torres | FW |\\n| 12 | Alex Grimaldo | DF |\\n| 13 | Alex Remiro | GK |\\n| 14 | Aymeric Laporte | DF | [...] _June 24: Albania 0-1\\xa0Spain, _Merkur Spiel-Arena, Düsseldorf, Germany\\nJune 30: Spain 4-1 Georgia, RheinEnergieStadion, Cologne, Germany\\nJuly 5: Spain 2-1 (a.e.t) Germany, MHPArena, Stuttgart, Germany\\nJuly 9: Spain 2-1 France, Allianz Arena, Munich, Germany\\nJuly 14: Spain v England, Olympiastadion, Berlin, Germany\\nSpain Euro 2024 top scorers\\n3 goals: Dani Olmo\\n2 goals: Fabian Ruiz\\n1 goal: Alvaro Morata, Dani Carvajal, Ferran Torres, Rodri, Nico Williams, Mikel Merino, Lamine Yamal [...] After six games, Spain have been comfortably the most impressive team at the tournament, with their quality on sharp display throughout. Rodri, Fabian Ruiz, Nico Williams, Lamine Yamal, Dani Olmo and Aymeric Laporte have all shown just how good they are - heck, even ridiculed left-back Marc Cucurella has had somewhat of a redemption arc in Germany this summer.', 'score': 0.86981434, 'raw_content': None}, {'url': 'https://m.allfootballapp.com/news/EPL/Spains-Stars-Key-players-to-watch-ahead-of-Euro-2024-final-against-England/3429676', 'title': \"Spain's Stars: Key players to watch ahead of Euro 2024 final against ...\", 'content': \"Spain's legendary midfield trio of Andres Iniesta, Xavi Hernandez and Sergio Busquets is unbeatable. It is, and probably always will be, the\", 'score': 0.8405867, 'raw_content': None}], 'response_time': 1.64})]}}\n",
      "----------------------------------------------------------------------------------------------------\n",
      "{'agent': {'messages': [AIMessage(content=\"The top stars of the Spain team during the Euro 2024 tournament included:\\n\\n1. **Dani Olmo** - He was the top scorer for Spain, netting 3 goals.\\n2. **Fabian Ruiz** - Contributed significantly with 2 goals.\\n3. **Alvaro Morata** - Scored 1 goal and played a crucial role in the attack.\\n4. **Dani Carvajal** - Also scored 1 goal and was solid in defense.\\n5. **Ferran Torres** - Added to the scoring with 1 goal.\\n6. **Rodri** - Contributed both defensively and offensively, scoring 1 goal.\\n7. **Nico Williams** and **Lamine Yamal** - Young talents who impressed with their performances.\\n\\nThese players were instrumental in Spain's success throughout the tournament, showcasing their skills and teamwork.\", additional_kwargs={'refusal': None}, response_metadata={'token_usage': {'completion_tokens': 180, 'prompt_tokens': 1622, 'total_tokens': 1802, 'completion_tokens_details': {'accepted_prediction_tokens': 0, 'audio_tokens': 0, 'reasoning_tokens': 0, 'rejected_prediction_tokens': 0}, 'prompt_tokens_details': {'audio_tokens': 0, 'cached_tokens': 0}}, 'model_name': 'gpt-4o-mini-2024-07-18', 'system_fingerprint': 'fp_b376dfbbd5', 'finish_reason': 'stop', 'logprobs': None}, id='run-c1a73afe-678a-430f-9af9-d27bbf7dce3b-0', usage_metadata={'input_tokens': 1622, 'output_tokens': 180, 'total_tokens': 1802, 'input_token_details': {'audio': 0, 'cache_read': 0}, 'output_token_details': {'audio': 0, 'reasoning': 0}})]}}\n",
      "----------------------------------------------------------------------------------------------------\n"
     ]
    }
   ],
   "source": [
    "for chunk in agent_executor.stream(\n",
    "    {\"messages\": [HumanMessage(content=\"Who were the top stars of that winner team?\")]}, config\n",
    "):\n",
    "    print(chunk)\n",
    "    print(\"-\"*100)\n"
   ]
  },
  {
   "cell_type": "code",
   "execution_count": null,
   "metadata": {},
   "outputs": [],
   "source": []
  }
 ],
 "metadata": {
  "kernelspec": {
   "display_name": "agentic-ai",
   "language": "python",
   "name": "python3"
  },
  "language_info": {
   "codemirror_mode": {
    "name": "ipython",
    "version": 3
   },
   "file_extension": ".py",
   "mimetype": "text/x-python",
   "name": "python",
   "nbconvert_exporter": "python",
   "pygments_lexer": "ipython3",
   "version": "3.12.8"
  }
 },
 "nbformat": 4,
 "nbformat_minor": 2
}
